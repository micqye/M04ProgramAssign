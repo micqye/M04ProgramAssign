{
 "cells": [
  {
   "cell_type": "code",
   "execution_count": null,
   "metadata": {},
   "outputs": [],
   "source": [
    "#create zoo python file\n",
    "#zoo.py\n",
    "def hours(): #define function 'hours'\n",
    "    print(\"Open 9-5 daily\") #print string\n",
    "#import zoo module\n",
    "import zoo\n",
    "zoo.hours() #call hours function"
   ]
  },
  {
   "cell_type": "markdown",
   "metadata": {},
   "source": [
    "11.1 Create a file called zoo.py. In it, define a function called hours() that prints the string 'Open 9-5 daily'. Then, use the interactive interpreter to import the zoo module and call its hours() function."
   ]
  },
  {
   "cell_type": "code",
   "execution_count": null,
   "metadata": {},
   "outputs": [],
   "source": [
    "#import zoo module\n",
    "import zoo as menagerie\n",
    "menagerie.hours() #call hours function"
   ]
  },
  {
   "cell_type": "markdown",
   "metadata": {},
   "source": [
    "11.2 In the interactive interpreter, import the zoo module as menagerie and call its hours() function."
   ]
  },
  {
   "cell_type": "code",
   "execution_count": null,
   "metadata": {},
   "outputs": [],
   "source": [
    "#sqlalchemy module\n",
    "import sqlalchemy\n",
    "import pandas as pd\n",
    "#connect to database\n",
    "data = sqlalchemy.create_engine('sqlite:////books.db') \n",
    "#use pandas to read data file\n",
    "df=pd.read_sql('select title from book', data)\n",
    "print(df)"
   ]
  },
  {
   "cell_type": "markdown",
   "metadata": {},
   "source": [
    "16.8 Use the sqlalchemy module to connect to the sqlite3 database books.db that you just made in exercise 16.4. As in 16.6, select and print the title column from the book table in alphabetical order."
   ]
  }
 ],
 "metadata": {
  "language_info": {
   "name": "python"
  },
  "orig_nbformat": 4
 },
 "nbformat": 4,
 "nbformat_minor": 2
}
